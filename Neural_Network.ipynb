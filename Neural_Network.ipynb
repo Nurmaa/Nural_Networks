{
 "cells": [
  {
   "cell_type": "code",
   "execution_count": 24,
   "metadata": {},
   "outputs": [],
   "source": [
    "import numpy as np\n",
    "import scipy.special"
   ]
  },
  {
   "cell_type": "code",
   "execution_count": 35,
   "metadata": {},
   "outputs": [],
   "source": [
    "#определение Класса нейрнной сети \n",
    "class neuralNetwork:\n",
    "    \n",
    "    # инициализировать нейронную сеть\n",
    "    def __init__(self, inputnodes, hiddennodes, outputnodes, learningrate):\n",
    "        #задать количество узлов во входном, скрытом и выходном слое \n",
    "        self.inodes = inputnodes\n",
    "        self.hnodes = hiddennodes\n",
    "        self.onodes = outputnodes\n",
    "        \n",
    "        #Матрицы весовых коэффицентов связей wih (между входным и скрытым \n",
    "        # слоями) и who(между скрытым и выходными).\n",
    "        # Весовые коэффиценты связей между узлом i и узлом j следующего слоя \n",
    "        # обозначены как w_i_j:\n",
    "        # w11 w21\n",
    "        # w12 w22 и т.д.\n",
    "        #коэффицент обучения \n",
    "        #self.wih = (np.random.normal(0.0, pow(self.hnodes, -0.5), (self.hnodes, self.inodes))        \n",
    "        #self.who = (np.random.normal(0.0, pow(self.onodes, -0.5), (self.onodes, self.hnodes))\n",
    "        #self.wih = (np.random.rand(self.hnodes, self.inodes) - 0.5)\n",
    "        #self.who = (np.random.rand(self.onodes, self.hnodes) - 0.5)\n",
    "        self.wih = numpy.random.normal(0.0, pow(self.inodes, -0.5), (self.hnodes, self.inodes))\n",
    "        self.who = numpy.random.normal(0.0, pow(self.hnodes, -0.5), (self.onodes, self.hnodes))\n",
    "        self.lr = learningrate\n",
    "        \n",
    "    \n",
    "                    \n",
    "        # использование сигмоиды в качестве функции активации\n",
    "        self.activation_function = lambda x: scipy.special.expit(x)\n",
    "        pass\n",
    "    #тренировка нейронной сети\n",
    "    def train(self, inputs_list, targets_list):\n",
    "        #преобразовать список входных значений в двухмерный массив\n",
    "        inputs = np.array(inputs_list, ndimn=2).T\n",
    "        targets = np.array(targets_list, ndimn=2).T\n",
    "        \n",
    "        #рассчитать входящие сигналы для скрытого слоя \n",
    "        hidden_inputs = np.dot(self.wih, inputs)\n",
    "        #рассчитать исходящие сигналы для скрытого слоя \n",
    "        hidden_outputs = self.activation_function(hidden_inputs)\n",
    "        \n",
    "        #рассчитать входящие сигналы для выходного слоя \n",
    "        final_inputs = np.dot(self.who, hidden_outputs)\n",
    "        #рассчитать исходящие сигналы для выходного слоя \n",
    "        final_outputs = self.activation_function(final_inputs)\n",
    "        \n",
    "        #ошибки выходного слоя \n",
    "        #(целевое значение - фактическое значение)\n",
    "        output_errors = targets - final_outputs\n",
    "        #ошибики скрытого слоя - это ошибки outputs_errors, \n",
    "        # распределенные пропорционально весовым коэффицентам связей \n",
    "        # и рекомбинированные на скрытых узлах\n",
    "        \n",
    "        hidden_errors = np.dot(self.who.T, output_errors)\n",
    "        #обновить весовые коэффиценты для связей между \n",
    "        # скрытым и выходным слоями\n",
    "        self.who += self.lr*np.dot((output_errors*final_outputs*(1.0 - final_outputs)), np.transpose(hidden_outputs))\n",
    "        \n",
    "        #обновить весовые коэффиценты для связей между \n",
    "        #входным и скрытым слоями \n",
    "        self.wih += self.lr*np.dot((hidden_errors*hidden_outputs*(1.0-hidden_outputs)), np.transpose(inputs))\n",
    "        \n",
    "        pass\n",
    "    \n",
    "    # опрос нейронной сети \n",
    "    def query(self, inputs_list):\n",
    "                    \n",
    "        # преобразовать список входных значений \n",
    "        # в двухмерный массив\n",
    "        inputs = np.array(inputs_list, ndmin=2).T\n",
    "        \n",
    "        # рассчитать входящие сигналы для скрытого слоя \n",
    "        hidden_inputs = np.dot(self.wih, inputs)\n",
    "        # рассчитать исходящие сигналы для скрытого слоя \n",
    "        hidden_outputs = self.activation_function(hidden_inputs)\n",
    "        \n",
    "        # рассчитать входящие сигналы для выходного слоя \n",
    "        final_inputs = np.dot(self.who, hidden_inputs)\n",
    "        # рассчитать исходящие сигналы для выходного слоя \n",
    "        final_outputs = self.activation_function(final_inputs)\n",
    "                    \n",
    "                    \n",
    "        return final_outputs\n",
    "    "
   ]
  },
  {
   "cell_type": "code",
   "execution_count": 36,
   "metadata": {},
   "outputs": [],
   "source": [
    "# количество входных, скрытых и выходных узлов\n",
    "input_nodes = 3\n",
    "hidden_nodes = 3\n",
    "output_nodes = 3\n",
    "\n",
    "# скорость обучения составляет 0,3\n",
    "learning_rate = 0.3\n",
    "\n",
    "# создать экземпляр нейронной сети\n",
    "n = neuralNetwork(input_nodes,hidden_nodes,output_nodes, learning_rate)"
   ]
  },
  {
   "cell_type": "code",
   "execution_count": 37,
   "metadata": {},
   "outputs": [
    {
     "data": {
      "text/plain": [
       "array([[0.4348613 ],\n",
       "       [0.26790393],\n",
       "       [0.47282287]])"
      ]
     },
     "execution_count": 37,
     "metadata": {},
     "output_type": "execute_result"
    }
   ],
   "source": [
    "n.query([1.0, 0.5, -1.5])"
   ]
  },
  {
   "cell_type": "code",
   "execution_count": null,
   "metadata": {},
   "outputs": [],
   "source": []
  }
 ],
 "metadata": {
  "kernelspec": {
   "display_name": "Python 3",
   "language": "python",
   "name": "python3"
  },
  "language_info": {
   "codemirror_mode": {
    "name": "ipython",
    "version": 3
   },
   "file_extension": ".py",
   "mimetype": "text/x-python",
   "name": "python",
   "nbconvert_exporter": "python",
   "pygments_lexer": "ipython3",
   "version": "3.7.3"
  }
 },
 "nbformat": 4,
 "nbformat_minor": 2
}
